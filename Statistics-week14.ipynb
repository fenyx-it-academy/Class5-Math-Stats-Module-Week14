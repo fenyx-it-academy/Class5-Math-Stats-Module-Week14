{
  "nbformat": 4,
  "nbformat_minor": 0,
  "metadata": {
    "colab": {
      "name": "Statistics-application.ipynb",
      "provenance": [],
      "authorship_tag": "ABX9TyOMw91p42LNLAQoeBl1pKKL",
      "include_colab_link": true
    },
    "kernelspec": {
      "name": "python3",
      "display_name": "Python 3"
    },
    "language_info": {
      "name": "python"
    }
  },
  "cells": [
    {
      "cell_type": "markdown",
      "metadata": {
        "id": "view-in-github",
        "colab_type": "text"
      },
      "source": [
        "<a href=\"https://colab.research.google.com/github/mhmtnzly/Class5-Math-Stats-Module-Week14/blob/main/Statistics-week14.ipynb\" target=\"_parent\"><img src=\"https://colab.research.google.com/assets/colab-badge.svg\" alt=\"Open In Colab\"/></a>"
      ]
    },
    {
      "cell_type": "markdown",
      "source": [
        "# Homework 1"
      ],
      "metadata": {
        "id": "-G_zo8MuOALP"
      }
    },
    {
      "cell_type": "markdown",
      "source": [
        "## A - DATA"
      ],
      "metadata": {
        "id": "GAw6fSN1WvaE"
      }
    },
    {
      "cell_type": "markdown",
      "source": [
        "* 1- \"The data concerns city-cycle fuel consumption in miles per gallon, to be predicted in terms of 3 multivalued discrete and 5 continuous attributes.\" (Quinlan, 1993)\n",
        "* 2- Data types\n",
        "1. mpg:           continuous\n",
        "2. cylinders:     multi-valued discrete\n",
        "3. displacement:  continuous\n",
        "4. horsepower:    continuous\n",
        "5. weight:        continuous\n",
        "6. acceleration:  continuous\n",
        "7. model year:    multi-valued discrete\n",
        "8. origin:        multi-valued discrete\n",
        "9. car name:      string (unique for each instance)\n"
      ],
      "metadata": {
        "id": "NYMBduDEXBoE"
      }
    },
    {
      "cell_type": "code",
      "source": [
        "import seaborn as sns\n",
        "data=sns.load_dataset('mpg')\n",
        "data.head()"
      ],
      "metadata": {
        "colab": {
          "base_uri": "https://localhost:8080/",
          "height": 206
        },
        "id": "GRHYjDfubL9r",
        "outputId": "c774bf52-99a5-45f4-aa64-2010746a0fa6"
      },
      "execution_count": 1,
      "outputs": [
        {
          "output_type": "execute_result",
          "data": {
            "text/html": [
              "\n",
              "  <div id=\"df-a64e8567-2b59-437b-a5eb-538d4401b0db\">\n",
              "    <div class=\"colab-df-container\">\n",
              "      <div>\n",
              "<style scoped>\n",
              "    .dataframe tbody tr th:only-of-type {\n",
              "        vertical-align: middle;\n",
              "    }\n",
              "\n",
              "    .dataframe tbody tr th {\n",
              "        vertical-align: top;\n",
              "    }\n",
              "\n",
              "    .dataframe thead th {\n",
              "        text-align: right;\n",
              "    }\n",
              "</style>\n",
              "<table border=\"1\" class=\"dataframe\">\n",
              "  <thead>\n",
              "    <tr style=\"text-align: right;\">\n",
              "      <th></th>\n",
              "      <th>mpg</th>\n",
              "      <th>cylinders</th>\n",
              "      <th>displacement</th>\n",
              "      <th>horsepower</th>\n",
              "      <th>weight</th>\n",
              "      <th>acceleration</th>\n",
              "      <th>model_year</th>\n",
              "      <th>origin</th>\n",
              "      <th>name</th>\n",
              "    </tr>\n",
              "  </thead>\n",
              "  <tbody>\n",
              "    <tr>\n",
              "      <th>0</th>\n",
              "      <td>18.0</td>\n",
              "      <td>8</td>\n",
              "      <td>307.0</td>\n",
              "      <td>130.0</td>\n",
              "      <td>3504</td>\n",
              "      <td>12.0</td>\n",
              "      <td>70</td>\n",
              "      <td>usa</td>\n",
              "      <td>chevrolet chevelle malibu</td>\n",
              "    </tr>\n",
              "    <tr>\n",
              "      <th>1</th>\n",
              "      <td>15.0</td>\n",
              "      <td>8</td>\n",
              "      <td>350.0</td>\n",
              "      <td>165.0</td>\n",
              "      <td>3693</td>\n",
              "      <td>11.5</td>\n",
              "      <td>70</td>\n",
              "      <td>usa</td>\n",
              "      <td>buick skylark 320</td>\n",
              "    </tr>\n",
              "    <tr>\n",
              "      <th>2</th>\n",
              "      <td>18.0</td>\n",
              "      <td>8</td>\n",
              "      <td>318.0</td>\n",
              "      <td>150.0</td>\n",
              "      <td>3436</td>\n",
              "      <td>11.0</td>\n",
              "      <td>70</td>\n",
              "      <td>usa</td>\n",
              "      <td>plymouth satellite</td>\n",
              "    </tr>\n",
              "    <tr>\n",
              "      <th>3</th>\n",
              "      <td>16.0</td>\n",
              "      <td>8</td>\n",
              "      <td>304.0</td>\n",
              "      <td>150.0</td>\n",
              "      <td>3433</td>\n",
              "      <td>12.0</td>\n",
              "      <td>70</td>\n",
              "      <td>usa</td>\n",
              "      <td>amc rebel sst</td>\n",
              "    </tr>\n",
              "    <tr>\n",
              "      <th>4</th>\n",
              "      <td>17.0</td>\n",
              "      <td>8</td>\n",
              "      <td>302.0</td>\n",
              "      <td>140.0</td>\n",
              "      <td>3449</td>\n",
              "      <td>10.5</td>\n",
              "      <td>70</td>\n",
              "      <td>usa</td>\n",
              "      <td>ford torino</td>\n",
              "    </tr>\n",
              "  </tbody>\n",
              "</table>\n",
              "</div>\n",
              "      <button class=\"colab-df-convert\" onclick=\"convertToInteractive('df-a64e8567-2b59-437b-a5eb-538d4401b0db')\"\n",
              "              title=\"Convert this dataframe to an interactive table.\"\n",
              "              style=\"display:none;\">\n",
              "        \n",
              "  <svg xmlns=\"http://www.w3.org/2000/svg\" height=\"24px\"viewBox=\"0 0 24 24\"\n",
              "       width=\"24px\">\n",
              "    <path d=\"M0 0h24v24H0V0z\" fill=\"none\"/>\n",
              "    <path d=\"M18.56 5.44l.94 2.06.94-2.06 2.06-.94-2.06-.94-.94-2.06-.94 2.06-2.06.94zm-11 1L8.5 8.5l.94-2.06 2.06-.94-2.06-.94L8.5 2.5l-.94 2.06-2.06.94zm10 10l.94 2.06.94-2.06 2.06-.94-2.06-.94-.94-2.06-.94 2.06-2.06.94z\"/><path d=\"M17.41 7.96l-1.37-1.37c-.4-.4-.92-.59-1.43-.59-.52 0-1.04.2-1.43.59L10.3 9.45l-7.72 7.72c-.78.78-.78 2.05 0 2.83L4 21.41c.39.39.9.59 1.41.59.51 0 1.02-.2 1.41-.59l7.78-7.78 2.81-2.81c.8-.78.8-2.07 0-2.86zM5.41 20L4 18.59l7.72-7.72 1.47 1.35L5.41 20z\"/>\n",
              "  </svg>\n",
              "      </button>\n",
              "      \n",
              "  <style>\n",
              "    .colab-df-container {\n",
              "      display:flex;\n",
              "      flex-wrap:wrap;\n",
              "      gap: 12px;\n",
              "    }\n",
              "\n",
              "    .colab-df-convert {\n",
              "      background-color: #E8F0FE;\n",
              "      border: none;\n",
              "      border-radius: 50%;\n",
              "      cursor: pointer;\n",
              "      display: none;\n",
              "      fill: #1967D2;\n",
              "      height: 32px;\n",
              "      padding: 0 0 0 0;\n",
              "      width: 32px;\n",
              "    }\n",
              "\n",
              "    .colab-df-convert:hover {\n",
              "      background-color: #E2EBFA;\n",
              "      box-shadow: 0px 1px 2px rgba(60, 64, 67, 0.3), 0px 1px 3px 1px rgba(60, 64, 67, 0.15);\n",
              "      fill: #174EA6;\n",
              "    }\n",
              "\n",
              "    [theme=dark] .colab-df-convert {\n",
              "      background-color: #3B4455;\n",
              "      fill: #D2E3FC;\n",
              "    }\n",
              "\n",
              "    [theme=dark] .colab-df-convert:hover {\n",
              "      background-color: #434B5C;\n",
              "      box-shadow: 0px 1px 3px 1px rgba(0, 0, 0, 0.15);\n",
              "      filter: drop-shadow(0px 1px 2px rgba(0, 0, 0, 0.3));\n",
              "      fill: #FFFFFF;\n",
              "    }\n",
              "  </style>\n",
              "\n",
              "      <script>\n",
              "        const buttonEl =\n",
              "          document.querySelector('#df-a64e8567-2b59-437b-a5eb-538d4401b0db button.colab-df-convert');\n",
              "        buttonEl.style.display =\n",
              "          google.colab.kernel.accessAllowed ? 'block' : 'none';\n",
              "\n",
              "        async function convertToInteractive(key) {\n",
              "          const element = document.querySelector('#df-a64e8567-2b59-437b-a5eb-538d4401b0db');\n",
              "          const dataTable =\n",
              "            await google.colab.kernel.invokeFunction('convertToInteractive',\n",
              "                                                     [key], {});\n",
              "          if (!dataTable) return;\n",
              "\n",
              "          const docLinkHtml = 'Like what you see? Visit the ' +\n",
              "            '<a target=\"_blank\" href=https://colab.research.google.com/notebooks/data_table.ipynb>data table notebook</a>'\n",
              "            + ' to learn more about interactive tables.';\n",
              "          element.innerHTML = '';\n",
              "          dataTable['output_type'] = 'display_data';\n",
              "          await google.colab.output.renderOutput(dataTable, element);\n",
              "          const docLink = document.createElement('div');\n",
              "          docLink.innerHTML = docLinkHtml;\n",
              "          element.appendChild(docLink);\n",
              "        }\n",
              "      </script>\n",
              "    </div>\n",
              "  </div>\n",
              "  "
            ],
            "text/plain": [
              "    mpg  cylinders  displacement  ...  model_year  origin                       name\n",
              "0  18.0          8         307.0  ...          70     usa  chevrolet chevelle malibu\n",
              "1  15.0          8         350.0  ...          70     usa          buick skylark 320\n",
              "2  18.0          8         318.0  ...          70     usa         plymouth satellite\n",
              "3  16.0          8         304.0  ...          70     usa              amc rebel sst\n",
              "4  17.0          8         302.0  ...          70     usa                ford torino\n",
              "\n",
              "[5 rows x 9 columns]"
            ]
          },
          "metadata": {},
          "execution_count": 1
        }
      ]
    },
    {
      "cell_type": "markdown",
      "source": [
        "3- Description statistics of data."
      ],
      "metadata": {
        "id": "CJ8Ruo2sX2v7"
      }
    },
    {
      "cell_type": "markdown",
      "source": [
        "* There may be some outlier in horsepower and acceleration variables. They should be analyzed. "
      ],
      "metadata": {
        "id": "uac8MuzAb1zR"
      }
    },
    {
      "cell_type": "code",
      "source": [
        "data.describe([0.01,0.05,0.25,0.5,.75,.95,.99]).T"
      ],
      "metadata": {
        "colab": {
          "base_uri": "https://localhost:8080/",
          "height": 269
        },
        "id": "Yd9_pWVLbRcG",
        "outputId": "d61535d5-5fcb-4674-e6f0-8ddea2470ea3"
      },
      "execution_count": 2,
      "outputs": [
        {
          "output_type": "execute_result",
          "data": {
            "text/html": [
              "\n",
              "  <div id=\"df-a7032695-b321-4057-8491-a7e8a37cc82a\">\n",
              "    <div class=\"colab-df-container\">\n",
              "      <div>\n",
              "<style scoped>\n",
              "    .dataframe tbody tr th:only-of-type {\n",
              "        vertical-align: middle;\n",
              "    }\n",
              "\n",
              "    .dataframe tbody tr th {\n",
              "        vertical-align: top;\n",
              "    }\n",
              "\n",
              "    .dataframe thead th {\n",
              "        text-align: right;\n",
              "    }\n",
              "</style>\n",
              "<table border=\"1\" class=\"dataframe\">\n",
              "  <thead>\n",
              "    <tr style=\"text-align: right;\">\n",
              "      <th></th>\n",
              "      <th>count</th>\n",
              "      <th>mean</th>\n",
              "      <th>std</th>\n",
              "      <th>min</th>\n",
              "      <th>1%</th>\n",
              "      <th>5%</th>\n",
              "      <th>25%</th>\n",
              "      <th>50%</th>\n",
              "      <th>75%</th>\n",
              "      <th>95%</th>\n",
              "      <th>99%</th>\n",
              "      <th>max</th>\n",
              "    </tr>\n",
              "  </thead>\n",
              "  <tbody>\n",
              "    <tr>\n",
              "      <th>mpg</th>\n",
              "      <td>398.0</td>\n",
              "      <td>23.514573</td>\n",
              "      <td>7.815984</td>\n",
              "      <td>9.0</td>\n",
              "      <td>11.000</td>\n",
              "      <td>13.000</td>\n",
              "      <td>17.500</td>\n",
              "      <td>23.0</td>\n",
              "      <td>29.000</td>\n",
              "      <td>37.030</td>\n",
              "      <td>43.418</td>\n",
              "      <td>46.6</td>\n",
              "    </tr>\n",
              "    <tr>\n",
              "      <th>cylinders</th>\n",
              "      <td>398.0</td>\n",
              "      <td>5.454774</td>\n",
              "      <td>1.701004</td>\n",
              "      <td>3.0</td>\n",
              "      <td>3.970</td>\n",
              "      <td>4.000</td>\n",
              "      <td>4.000</td>\n",
              "      <td>4.0</td>\n",
              "      <td>8.000</td>\n",
              "      <td>8.000</td>\n",
              "      <td>8.000</td>\n",
              "      <td>8.0</td>\n",
              "    </tr>\n",
              "    <tr>\n",
              "      <th>displacement</th>\n",
              "      <td>398.0</td>\n",
              "      <td>193.425879</td>\n",
              "      <td>104.269838</td>\n",
              "      <td>68.0</td>\n",
              "      <td>70.970</td>\n",
              "      <td>85.000</td>\n",
              "      <td>104.250</td>\n",
              "      <td>148.5</td>\n",
              "      <td>262.000</td>\n",
              "      <td>400.000</td>\n",
              "      <td>440.420</td>\n",
              "      <td>455.0</td>\n",
              "    </tr>\n",
              "    <tr>\n",
              "      <th>horsepower</th>\n",
              "      <td>392.0</td>\n",
              "      <td>104.469388</td>\n",
              "      <td>38.491160</td>\n",
              "      <td>46.0</td>\n",
              "      <td>48.000</td>\n",
              "      <td>60.550</td>\n",
              "      <td>75.000</td>\n",
              "      <td>93.5</td>\n",
              "      <td>126.000</td>\n",
              "      <td>180.000</td>\n",
              "      <td>220.450</td>\n",
              "      <td>230.0</td>\n",
              "    </tr>\n",
              "    <tr>\n",
              "      <th>weight</th>\n",
              "      <td>398.0</td>\n",
              "      <td>2970.424623</td>\n",
              "      <td>846.841774</td>\n",
              "      <td>1613.0</td>\n",
              "      <td>1772.610</td>\n",
              "      <td>1923.500</td>\n",
              "      <td>2223.750</td>\n",
              "      <td>2803.5</td>\n",
              "      <td>3608.000</td>\n",
              "      <td>4464.000</td>\n",
              "      <td>4951.030</td>\n",
              "      <td>5140.0</td>\n",
              "    </tr>\n",
              "    <tr>\n",
              "      <th>acceleration</th>\n",
              "      <td>398.0</td>\n",
              "      <td>15.568090</td>\n",
              "      <td>2.757689</td>\n",
              "      <td>8.0</td>\n",
              "      <td>9.485</td>\n",
              "      <td>11.285</td>\n",
              "      <td>13.825</td>\n",
              "      <td>15.5</td>\n",
              "      <td>17.175</td>\n",
              "      <td>20.415</td>\n",
              "      <td>22.239</td>\n",
              "      <td>24.8</td>\n",
              "    </tr>\n",
              "    <tr>\n",
              "      <th>model_year</th>\n",
              "      <td>398.0</td>\n",
              "      <td>76.010050</td>\n",
              "      <td>3.697627</td>\n",
              "      <td>70.0</td>\n",
              "      <td>70.000</td>\n",
              "      <td>70.000</td>\n",
              "      <td>73.000</td>\n",
              "      <td>76.0</td>\n",
              "      <td>79.000</td>\n",
              "      <td>82.000</td>\n",
              "      <td>82.000</td>\n",
              "      <td>82.0</td>\n",
              "    </tr>\n",
              "  </tbody>\n",
              "</table>\n",
              "</div>\n",
              "      <button class=\"colab-df-convert\" onclick=\"convertToInteractive('df-a7032695-b321-4057-8491-a7e8a37cc82a')\"\n",
              "              title=\"Convert this dataframe to an interactive table.\"\n",
              "              style=\"display:none;\">\n",
              "        \n",
              "  <svg xmlns=\"http://www.w3.org/2000/svg\" height=\"24px\"viewBox=\"0 0 24 24\"\n",
              "       width=\"24px\">\n",
              "    <path d=\"M0 0h24v24H0V0z\" fill=\"none\"/>\n",
              "    <path d=\"M18.56 5.44l.94 2.06.94-2.06 2.06-.94-2.06-.94-.94-2.06-.94 2.06-2.06.94zm-11 1L8.5 8.5l.94-2.06 2.06-.94-2.06-.94L8.5 2.5l-.94 2.06-2.06.94zm10 10l.94 2.06.94-2.06 2.06-.94-2.06-.94-.94-2.06-.94 2.06-2.06.94z\"/><path d=\"M17.41 7.96l-1.37-1.37c-.4-.4-.92-.59-1.43-.59-.52 0-1.04.2-1.43.59L10.3 9.45l-7.72 7.72c-.78.78-.78 2.05 0 2.83L4 21.41c.39.39.9.59 1.41.59.51 0 1.02-.2 1.41-.59l7.78-7.78 2.81-2.81c.8-.78.8-2.07 0-2.86zM5.41 20L4 18.59l7.72-7.72 1.47 1.35L5.41 20z\"/>\n",
              "  </svg>\n",
              "      </button>\n",
              "      \n",
              "  <style>\n",
              "    .colab-df-container {\n",
              "      display:flex;\n",
              "      flex-wrap:wrap;\n",
              "      gap: 12px;\n",
              "    }\n",
              "\n",
              "    .colab-df-convert {\n",
              "      background-color: #E8F0FE;\n",
              "      border: none;\n",
              "      border-radius: 50%;\n",
              "      cursor: pointer;\n",
              "      display: none;\n",
              "      fill: #1967D2;\n",
              "      height: 32px;\n",
              "      padding: 0 0 0 0;\n",
              "      width: 32px;\n",
              "    }\n",
              "\n",
              "    .colab-df-convert:hover {\n",
              "      background-color: #E2EBFA;\n",
              "      box-shadow: 0px 1px 2px rgba(60, 64, 67, 0.3), 0px 1px 3px 1px rgba(60, 64, 67, 0.15);\n",
              "      fill: #174EA6;\n",
              "    }\n",
              "\n",
              "    [theme=dark] .colab-df-convert {\n",
              "      background-color: #3B4455;\n",
              "      fill: #D2E3FC;\n",
              "    }\n",
              "\n",
              "    [theme=dark] .colab-df-convert:hover {\n",
              "      background-color: #434B5C;\n",
              "      box-shadow: 0px 1px 3px 1px rgba(0, 0, 0, 0.15);\n",
              "      filter: drop-shadow(0px 1px 2px rgba(0, 0, 0, 0.3));\n",
              "      fill: #FFFFFF;\n",
              "    }\n",
              "  </style>\n",
              "\n",
              "      <script>\n",
              "        const buttonEl =\n",
              "          document.querySelector('#df-a7032695-b321-4057-8491-a7e8a37cc82a button.colab-df-convert');\n",
              "        buttonEl.style.display =\n",
              "          google.colab.kernel.accessAllowed ? 'block' : 'none';\n",
              "\n",
              "        async function convertToInteractive(key) {\n",
              "          const element = document.querySelector('#df-a7032695-b321-4057-8491-a7e8a37cc82a');\n",
              "          const dataTable =\n",
              "            await google.colab.kernel.invokeFunction('convertToInteractive',\n",
              "                                                     [key], {});\n",
              "          if (!dataTable) return;\n",
              "\n",
              "          const docLinkHtml = 'Like what you see? Visit the ' +\n",
              "            '<a target=\"_blank\" href=https://colab.research.google.com/notebooks/data_table.ipynb>data table notebook</a>'\n",
              "            + ' to learn more about interactive tables.';\n",
              "          element.innerHTML = '';\n",
              "          dataTable['output_type'] = 'display_data';\n",
              "          await google.colab.output.renderOutput(dataTable, element);\n",
              "          const docLink = document.createElement('div');\n",
              "          docLink.innerHTML = docLinkHtml;\n",
              "          element.appendChild(docLink);\n",
              "        }\n",
              "      </script>\n",
              "    </div>\n",
              "  </div>\n",
              "  "
            ],
            "text/plain": [
              "              count         mean         std  ...       95%       99%     max\n",
              "mpg           398.0    23.514573    7.815984  ...    37.030    43.418    46.6\n",
              "cylinders     398.0     5.454774    1.701004  ...     8.000     8.000     8.0\n",
              "displacement  398.0   193.425879  104.269838  ...   400.000   440.420   455.0\n",
              "horsepower    392.0   104.469388   38.491160  ...   180.000   220.450   230.0\n",
              "weight        398.0  2970.424623  846.841774  ...  4464.000  4951.030  5140.0\n",
              "acceleration  398.0    15.568090    2.757689  ...    20.415    22.239    24.8\n",
              "model_year    398.0    76.010050    3.697627  ...    82.000    82.000    82.0\n",
              "\n",
              "[7 rows x 12 columns]"
            ]
          },
          "metadata": {},
          "execution_count": 2
        }
      ]
    },
    {
      "cell_type": "markdown",
      "source": [
        "4-"
      ],
      "metadata": {
        "id": "UgTTUmoxYAT5"
      }
    },
    {
      "cell_type": "markdown",
      "source": [
        "* When looking at the graphics, mpg, horsepower and acceleration have some outlier values. "
      ],
      "metadata": {
        "id": "z8VtG98sdI_G"
      }
    },
    {
      "cell_type": "code",
      "source": [
        "sns.boxplot(data['mpg']);"
      ],
      "metadata": {
        "colab": {
          "base_uri": "https://localhost:8080/",
          "height": 334
        },
        "id": "3lldIdt6bdHR",
        "outputId": "74bbeec5-3bb3-4f20-9a91-f4dc754e809a"
      },
      "execution_count": 3,
      "outputs": [
        {
          "output_type": "stream",
          "name": "stderr",
          "text": [
            "/usr/local/lib/python3.7/dist-packages/seaborn/_decorators.py:43: FutureWarning: Pass the following variable as a keyword arg: x. From version 0.12, the only valid positional argument will be `data`, and passing other arguments without an explicit keyword will result in an error or misinterpretation.\n",
            "  FutureWarning\n"
          ]
        },
        {
          "output_type": "display_data",
          "data": {
            "image/png": "[encoded data removed]",
            "text/plain": [
              "<Figure size 432x288 with 1 Axes>"
            ]
          },
          "metadata": {
            "needs_background": "light"
          }
        }
      ]
    },
    {
      "cell_type": "code",
      "source": [
        "sns.boxplot(data['horsepower']);"
      ],
      "metadata": {
        "colab": {
          "base_uri": "https://localhost:8080/",
          "height": 334
        },
        "id": "Lk3rGtZcbvdK",
        "outputId": "1ee569cf-3bc0-4b8a-cf3d-4a7de946b874"
      },
      "execution_count": 4,
      "outputs": [
        {
          "output_type": "stream",
          "name": "stderr",
          "text": [
            "/usr/local/lib/python3.7/dist-packages/seaborn/_decorators.py:43: FutureWarning: Pass the following variable as a keyword arg: x. From version 0.12, the only valid positional argument will be `data`, and passing other arguments without an explicit keyword will result in an error or misinterpretation.\n",
            "  FutureWarning\n"
          ]
        },
        {
          "output_type": "display_data",
          "data": {
            "image/png": "[encoded data removed]",
            "text/plain": [
              "<Figure size 432x288 with 1 Axes>"
            ]
          },
          "metadata": {
            "needs_background": "light"
          }
        }
      ]
    },
    {
      "cell_type": "code",
      "source": [
        "sns.boxplot(data['acceleration']);"
      ],
      "metadata": {
        "colab": {
          "base_uri": "https://localhost:8080/",
          "height": 334
        },
        "id": "zP5_jHQ3ceAG",
        "outputId": "df2d229a-c268-4d4a-90fe-c231fc33fdbd"
      },
      "execution_count": 5,
      "outputs": [
        {
          "output_type": "stream",
          "name": "stderr",
          "text": [
            "/usr/local/lib/python3.7/dist-packages/seaborn/_decorators.py:43: FutureWarning: Pass the following variable as a keyword arg: x. From version 0.12, the only valid positional argument will be `data`, and passing other arguments without an explicit keyword will result in an error or misinterpretation.\n",
            "  FutureWarning\n"
          ]
        },
        {
          "output_type": "display_data",
          "data": {
            "image/png": "[encoded data removed]",
            "text/plain": [
              "<Figure size 432x288 with 1 Axes>"
            ]
          },
          "metadata": {
            "needs_background": "light"
          }
        }
      ]
    },
    {
      "cell_type": "code",
      "source": [
        "sns.pairplot(data, diag_kind=\"kde\");"
      ],
      "metadata": {
        "id": "CxCmUlX4dCKL"
      },
      "execution_count": null,
      "outputs": []
    },
    {
      "cell_type": "code",
      "source": [
        "sns.histplot(data=data, x=\"acceleration\", kde=True);"
      ],
      "metadata": {
        "id": "K-TmN6vZdjS8"
      },
      "execution_count": null,
      "outputs": []
    },
    {
      "cell_type": "markdown",
      "source": [
        "5-"
      ],
      "metadata": {
        "id": "EPBG5FArYGPj"
      }
    },
    {
      "cell_type": "markdown",
      "source": [
        "* Best variables for predicting mpg is weight because correlation is -0.83 between mpg and weight. As weight decreases, mpg increases."
      ],
      "metadata": {
        "id": "FFwTCR63eTI5"
      }
    },
    {
      "cell_type": "code",
      "source": [
        "sns.heatmap(data.corr(), vmin=-1, vmax=1, annot=True);"
      ],
      "metadata": {
        "id": "tIuOpI6geM61"
      },
      "execution_count": null,
      "outputs": []
    },
    {
      "cell_type": "code",
      "source": [
        "from sklearn.model_selection import train_test_split\n",
        "y = data[\"mpg\"]\n",
        "X = data['weight']\n",
        "X_train, X_test, y_train, y_test = train_test_split(X, y, test_size = 0.33, random_state =46)"
      ],
      "metadata": {
        "id": "z3goprIQdtvl"
      },
      "execution_count": null,
      "outputs": []
    },
    {
      "cell_type": "code",
      "source": [
        "from scipy import stats\n",
        "slope, intercept, r_value, p_value, std_err = stats.linregress(X_train,y_train)"
      ],
      "metadata": {
        "id": "1VCreQT1e18e"
      },
      "execution_count": null,
      "outputs": []
    },
    {
      "cell_type": "code",
      "source": [
        "p_value # nearly it is equal to 0"
      ],
      "metadata": {
        "id": "plcAf12sgDy2"
      },
      "execution_count": null,
      "outputs": []
    },
    {
      "cell_type": "code",
      "source": [
        "print(intercept,'+','x*',slope) # model"
      ],
      "metadata": {
        "id": "aa2byLzofVUE"
      },
      "execution_count": null,
      "outputs": []
    },
    {
      "cell_type": "code",
      "source": [
        "intercept+slope*X_test.iloc[[0]]"
      ],
      "metadata": {
        "id": "9T21vXBVfX51"
      },
      "execution_count": null,
      "outputs": []
    },
    {
      "cell_type": "code",
      "source": [
        "y_test.iloc[[0]] # as original value is 15.0, predicted values is 12.27"
      ],
      "metadata": {
        "id": "7M2tL92Qfv40"
      },
      "execution_count": null,
      "outputs": []
    },
    {
      "cell_type": "code",
      "source": [
        "results=stats.linregress(X_train,y_train)\n",
        "import matplotlib.pyplot as plt\n",
        "plt.plot(X_test,y_test, 'o', label='original data')\n",
        "plt.plot(X_test, results.intercept + results.slope*X_test, 'r', label='fitted line')\n",
        "plt.legend()\n",
        "plt.show()"
      ],
      "metadata": {
        "id": "51Ic7RXehiHW"
      },
      "execution_count": null,
      "outputs": []
    },
    {
      "cell_type": "code",
      "source": [
        "r_value"
      ],
      "metadata": {
        "id": "jlAIbQYuiirJ"
      },
      "execution_count": null,
      "outputs": []
    },
    {
      "cell_type": "markdown",
      "source": [
        "# Homework-2"
      ],
      "metadata": {
        "id": "HhFbWADZYKQ0"
      }
    },
    {
      "cell_type": "code",
      "source": [
        "import pandas as pd\n",
        "import numpy as np\n",
        "np.random.seed(42)\n",
        "veri1 = np.random.normal(10000, 1000, 500).astype(int)\n",
        "veri2 = np.random.normal(9000, 900, 500).astype(int)\n",
        "veri3 = np.random.normal(12000, 1200, 500).astype(int)\n",
        "veri4 = np.random.normal(10000, 950, 500).astype(int)\n",
        "df = pd.DataFrame(np.array([veri1,veri2,veri3,veri4]).T, columns=['A_once','B_once','A_sonra','B_sonra'])\n",
        "olcum = df.copy()\n",
        "olcum.head()"
      ],
      "metadata": {
        "id": "WQJSq2VfYMno"
      },
      "execution_count": null,
      "outputs": []
    },
    {
      "cell_type": "markdown",
      "source": [
        "It is observed that there is a linear increase in the running of the football players in the measurements after the diet, and it is observed that there are some outliers."
      ],
      "metadata": {
        "id": "z99xsFROZO89"
      }
    },
    {
      "cell_type": "code",
      "source": [
        "olcum.describe([0.01,0.05,0.25,0.5,.75,.95,.99])"
      ],
      "metadata": {
        "id": "RRYaLsCNYaj0"
      },
      "execution_count": null,
      "outputs": []
    },
    {
      "cell_type": "code",
      "source": [
        "sns.histplot(data=olcum, x=\"A_once\", kde=True);"
      ],
      "metadata": {
        "id": "ELVz7wAOZR5P"
      },
      "execution_count": null,
      "outputs": []
    },
    {
      "cell_type": "code",
      "source": [
        "sns.histplot(data=olcum, x=\"A_sonra\", kde=True);"
      ],
      "metadata": {
        "id": "OPRu9gInZtcq"
      },
      "execution_count": null,
      "outputs": []
    },
    {
      "cell_type": "code",
      "source": [
        "sns.histplot(data=olcum, x=\"B_once\", kde=True);"
      ],
      "metadata": {
        "id": "pHFj5Ur5Zwk3"
      },
      "execution_count": null,
      "outputs": []
    },
    {
      "cell_type": "code",
      "source": [
        "sns.histplot(data=olcum, x=\"B_sonra\", kde=True);"
      ],
      "metadata": {
        "id": "sQXKTOECZyG8"
      },
      "execution_count": null,
      "outputs": []
    },
    {
      "cell_type": "code",
      "source": [
        "from scipy.stats import shapiro\n",
        "print(\"\"\"\n",
        "𝐻0: data is 𝑁(𝜇 , 𝜎2) distribution. \n",
        "𝐻1: data is not 𝑁(𝜇 , 𝜎2) distribution.\"\"\")\n",
        "t_değeri,p_degeri = shapiro(olcum['A_once'])\n",
        "print('for A_once p-value is :', p_degeri)\n",
        "print('If α ≤ p-value, cannot reject H0.')"
      ],
      "metadata": {
        "id": "EbD7PkLJZzt5"
      },
      "execution_count": null,
      "outputs": []
    },
    {
      "cell_type": "code",
      "source": [
        "print(\"\"\"\n",
        "𝐻0: data is 𝑁(𝜇 , 𝜎2) distribution. \n",
        "𝐻1: data is not 𝑁(𝜇 , 𝜎2) distribution.\"\"\")\n",
        "t_değeri,p_degeri = shapiro(olcum['A_sonra'])\n",
        "print('for A_sonra p-value is :', p_degeri)\n",
        "print('If α ≤ p-value, cannot reject H0.')"
      ],
      "metadata": {
        "id": "c3AxZIUCZ3ut"
      },
      "execution_count": null,
      "outputs": []
    },
    {
      "cell_type": "code",
      "source": [
        "print(\"\"\"\n",
        "𝐻0: data is 𝑁(𝜇 , 𝜎2) distribution. \n",
        "𝐻1: data is not 𝑁(𝜇 , 𝜎2) distribution.\"\"\")\n",
        "t_değeri,p_degeri = shapiro(olcum['B_once'])\n",
        "print('for B_once p-value is :', p_degeri)\n",
        "print('If α ≤ p-value, cannot reject H0.')"
      ],
      "metadata": {
        "id": "v-fevUbNZ6ox"
      },
      "execution_count": null,
      "outputs": []
    },
    {
      "cell_type": "code",
      "source": [
        "print(\"\"\"\n",
        "𝐻0: data is 𝑁(𝜇 , 𝜎2) distribution. \n",
        "𝐻1: data is not 𝑁(𝜇 , 𝜎2) distribution.\"\"\")\n",
        "t_değeri,p_degeri = shapiro(olcum['B_sonra'])\n",
        "print('for B_sonra p-value is :', p_degeri)\n",
        "print('If α ≤ p-value, cannot reject H0.')"
      ],
      "metadata": {
        "id": "uldd_RC9dN-Y"
      },
      "execution_count": null,
      "outputs": []
    },
    {
      "cell_type": "code",
      "source": [
        "print(\"\"\"\n",
        "𝐻0: M=10000. \n",
        "𝐻1: M!=10000\"\"\")\n",
        "statistic,pvalue=stats.ttest_1samp(olcum, popmean = 10000)\n",
        "print(pvalue)\n",
        "print('For A_once and B_sonra H0 is not rejected but B_once and A_sonra . The hypothesis football players run mean 10000 is rejected')"
      ],
      "metadata": {
        "id": "pB47IV8zdR7b"
      },
      "execution_count": null,
      "outputs": []
    },
    {
      "cell_type": "code",
      "source": [
        "print(\"\"\"\n",
        "H0: Variances are homogeneous\n",
        "H1: Variances are not homogeneous\n",
        "\"\"\")\n",
        "before=olcum['A_once']\n",
        "after=olcum['A_sonra']\n",
        "statistic,pvalue=stats.levene(before,after)\n",
        "print(\"\"\"Because of 0.05>{}, \n",
        "the hypothesis of homogeneity of variances is not satisfied.\n",
        " But I will continue\"\"\".format(pvalue))\n",
        "print(\"\"\"\n",
        "H0: before=after\n",
        "H1: before!=after\"\"\")\n",
        "statistic,pvalue=stats.ttest_rel(before,after)\n",
        "print(\"\"\"Because of 0.05>{}, H0 hypothesis is rejected. \n",
        "There is no evidence for the claim of difference \n",
        "between before diet and after diet is rejected as statistical.\"\"\".format(pvalue))\n"
      ],
      "metadata": {
        "id": "v28wFwuNfYRl"
      },
      "execution_count": null,
      "outputs": []
    },
    {
      "cell_type": "code",
      "source": [
        "print(\"\"\"\n",
        "H0: Variances are homogeneous\n",
        "H1: Variances are not homogeneous\n",
        "\"\"\")\n",
        "before=olcum['B_once']\n",
        "after=olcum['B_sonra']\n",
        "statistic,pvalue=stats.levene(before,after)\n",
        "print(\"\"\"Because of 0.05<{}, \n",
        "the hypothesis of homogeneity of variances is satisfied.\"\"\".format(pvalue))\n",
        "print(\"\"\"\n",
        "H0: before=after\n",
        "H1: before!=after\"\"\")\n",
        "statistic,pvalue=stats.ttest_rel(before,after)\n",
        "print(\"\"\"Because of 0.05>{}, H0 hypothesis is rejected. \n",
        "There is no evidence for the claim of difference \n",
        "between before diet and after diet is rejected as statistical.\"\"\".format(pvalue))\n"
      ],
      "metadata": {
        "id": "qoA0W7oCiCib"
      },
      "execution_count": null,
      "outputs": []
    },
    {
      "cell_type": "code",
      "source": [
        "print(\"\"\"\n",
        "H0: Variances are homogeneous\n",
        "H1: Variances are not homogeneous\n",
        "\"\"\")\n",
        "before=olcum['A_once']\n",
        "after=olcum['B_sonra']\n",
        "statistic,pvalue=stats.levene(before,after)\n",
        "print(\"\"\"Because of 0.05<{}, \n",
        "the hypothesis of homogeneity of variances is satisfied.\"\"\".format(pvalue))\n",
        "print(\"\"\"\n",
        "H0: A_once=B_sonra\n",
        "H1: A_once!=B_sonra\"\"\")\n",
        "statistic,pvalue = stats.ttest_ind(olcum['A_once'],olcum['B_sonra'], equal_var = True)\n",
        "print(\"\"\"Because of 0.05<{}, H0 hypothesis is not rejected. \n",
        "There is not enough evidence to reject for the claim which there is difference between A before diet and B after diet.\"\"\".format(pvalue))"
      ],
      "metadata": {
        "id": "kJ0P4_mcjwtA"
      },
      "execution_count": null,
      "outputs": []
    },
    {
      "cell_type": "code",
      "source": [
        "print(\"\"\"\n",
        "H0: Variances are homogeneous\n",
        "H1: Variances are not homogeneous\n",
        "\"\"\")\n",
        "before=olcum['B_once']\n",
        "after=olcum['A_sonra']\n",
        "statistic,pvalue=stats.levene(before,after)\n",
        "print(\"\"\"Because of 0.05<{}, \n",
        "the hypothesis of homogeneity of variances is satisfied.\"\"\".format(pvalue))\n",
        "print(\"\"\"\n",
        "H0: B_once=A_sonra\n",
        "H1: B_once!=A_sonra\"\"\")\n",
        "statistic,pvalue = stats.ttest_ind(olcum['B_once'],olcum['A_sonra'], equal_var = True)\n",
        "print(\"\"\"Because of 0.05>{}, H0 hypothesis is rejected. \n",
        "There is no evidence for the claim of difference \n",
        "between b before diet and a after diet is rejected as statistical.\"\"\".format(pvalue))"
      ],
      "metadata": {
        "id": "7JLz1n7Gl4f3"
      },
      "execution_count": null,
      "outputs": []
    }
  ]
}